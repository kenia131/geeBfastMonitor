{
  "nbformat": 4,
  "nbformat_minor": 0,
  "metadata": {
    "colab": {
      "name": "Save_Mosaics_SC_TO_GO_allyears.ipynb",
      "provenance": [],
      "include_colab_link": true
    },
    "kernelspec": {
      "name": "python3",
      "display_name": "Python 3"
    },
    "language_info": {
      "name": "python"
    }
  },
  "cells": [
    {
      "cell_type": "markdown",
      "metadata": {
        "id": "view-in-github",
        "colab_type": "text"
      },
      "source": [
        "<a href=\"https://colab.research.google.com/github/kenia131/geeBfastMonitor/blob/master/Save_Mosaics_SC_TO_GO_allyears.ipynb\" target=\"_parent\"><img src=\"https://colab.research.google.com/assets/colab-badge.svg\" alt=\"Open In Colab\"/></a>"
      ]
    },
    {
      "cell_type": "markdown",
      "metadata": {
        "id": "FjeoLU1laYp3"
      },
      "source": [
        "# Create and export rice mosaic to use in Unet\n",
        "## import packges"
      ]
    },
    {
      "cell_type": "code",
      "metadata": {
        "id": "7giSbIJMVjUb"
      },
      "source": [
        "# system modules\n",
        "import json\n",
        "import pandas as pd\n",
        "import sys, os\n",
        "import ee\n",
        "import ee, folium\n",
        "from folium import plugins"
      ],
      "execution_count": 1,
      "outputs": []
    },
    {
      "cell_type": "markdown",
      "metadata": {
        "id": "8XXK-v5Maoen"
      },
      "source": [
        "## Authenticate and initialize gee"
      ]
    },
    {
      "cell_type": "code",
      "metadata": {
        "colab": {
          "base_uri": "https://localhost:8080/"
        },
        "id": "qYcs20R9Vstn",
        "outputId": "30ca2220-59a3-4d9e-af58-384c81e1abef"
      },
      "source": [
        "ee.Authenticate()"
      ],
      "execution_count": 2,
      "outputs": [
        {
          "output_type": "stream",
          "text": [
            "To authorize access needed by Earth Engine, open the following URL in a web browser and follow the instructions. If the web browser does not start automatically, please manually browse the URL below.\n",
            "\n",
            "    https://accounts.google.com/o/oauth2/auth?client_id=517222506229-vsmmajv00ul0bs7p89v5m89qs8eb9359.apps.googleusercontent.com&scope=https%3A%2F%2Fwww.googleapis.com%2Fauth%2Fearthengine+https%3A%2F%2Fwww.googleapis.com%2Fauth%2Fdevstorage.full_control&redirect_uri=urn%3Aietf%3Awg%3Aoauth%3A2.0%3Aoob&response_type=code&code_challenge=J9TqWtqcDT2yvvPlMG1A35uhHeznzH4V4e6PDPmaq6s&code_challenge_method=S256\n",
            "\n",
            "The authorization workflow will generate a code, which you should paste in the box below. \n",
            "Enter verification code: 4/1AY0e-g5Sf4UlhBFTc1mdCrV3r1zL8ACPw3xFTaURBmn_3dnb_uDklER19zQ\n",
            "\n",
            "Successfully saved authorization token.\n"
          ],
          "name": "stdout"
        }
      ]
    },
    {
      "cell_type": "code",
      "metadata": {
        "id": "t_PoJFG2WFw9"
      },
      "source": [
        "ee.Initialize()"
      ],
      "execution_count": 3,
      "outputs": []
    },
    {
      "cell_type": "markdown",
      "metadata": {
        "id": "HRpSHX7ua4FS"
      },
      "source": [
        "# Utils"
      ]
    },
    {
      "cell_type": "markdown",
      "metadata": {
        "id": "wW-ISM5batrH"
      },
      "source": [
        "## define functions"
      ]
    },
    {
      "cell_type": "code",
      "metadata": {
        "id": "Y1U3fu0OV4hf"
      },
      "source": [
        "def getCeusius(image):\n",
        "    tirC = image.select('tir1').subtract(273.5).divide(100).rename('TIR1_c')\n",
        "    return image.addBands(srcImg=tirC, overwrite=True)\n",
        "\n",
        "def getEVI2(image):\n",
        "    exp = '2.5 * (b(\"nir\") - b(\"red\")) / (b(\"nir\") + (2.4 * b(\"red\")) + 1)'\n",
        "    evi2 = image.expression(exp).rename([\"evi2\"])\n",
        "    return image.addBands(srcImg=evi2, overwrite=True)\n",
        "\n",
        "def getNDWI(image):\n",
        "    exp = 'float(b(\"nir\") - b(\"swir1\"))/(b(\"nir\") + b(\"swir1\"))'\n",
        "    ndwi = image.expression(exp).rename([\"ndwi\"])\n",
        "    return image.addBands(srcImg=ndwi, overwrite=True)\n",
        "\n",
        "\n"
      ],
      "execution_count": 4,
      "outputs": []
    },
    {
      "cell_type": "markdown",
      "metadata": {
        "id": "Pl1BfeshayP-"
      },
      "source": [
        "## add custom basemaps to folium"
      ]
    },
    {
      "cell_type": "code",
      "metadata": {
        "id": "qecAHd5lV6hp"
      },
      "source": [
        "# Add custom basemaps to folium\n",
        "basemaps = {\n",
        "    'Google Maps': folium.TileLayer(\n",
        "        tiles = 'https://mt1.google.com/vt/lyrs=m&x={x}&y={y}&z={z}',\n",
        "        attr = 'Google',\n",
        "        name = 'Google Maps',\n",
        "        overlay = True,\n",
        "        control = True\n",
        "    ),\n",
        "    'Google Satellite': folium.TileLayer(\n",
        "        tiles = 'https://mt1.google.com/vt/lyrs=s&x={x}&y={y}&z={z}',\n",
        "        attr = 'Google',\n",
        "        name = 'Google Satellite',\n",
        "        overlay = True,\n",
        "        control = True\n",
        "    ),\n",
        "    'Google Terrain': folium.TileLayer(\n",
        "        tiles = 'https://mt1.google.com/vt/lyrs=p&x={x}&y={y}&z={z}',\n",
        "        attr = 'Google',\n",
        "        name = 'Google Terrain',\n",
        "        overlay = True,\n",
        "        control = True\n",
        "    ),\n",
        "    'Google Satellite Hybrid': folium.TileLayer(\n",
        "        tiles = 'https://mt1.google.com/vt/lyrs=y&x={x}&y={y}&z={z}',\n",
        "        attr = 'Google',\n",
        "        name = 'Google Satellite',\n",
        "        overlay = True,\n",
        "        control = True\n",
        "    ),\n",
        "    'Esri Satellite': folium.TileLayer(\n",
        "        tiles = 'https://server.arcgisonline.com/ArcGIS/rest/services/World_Imagery/MapServer/tile/{z}/{y}/{x}',\n",
        "        attr = 'Esri',\n",
        "        name = 'Esri Satellite',\n",
        "        overlay = True,\n",
        "        control = True\n",
        "    )\n",
        "}\n",
        "\n",
        "\n",
        "# Define a method for displaying Earth Engine image tiles on a folium map.\n",
        "def addLayer(self, ee_object, vis_params, name):\n",
        "    \n",
        "    try:    \n",
        "        # display ee.Image()\n",
        "        if isinstance(ee_object, ee.image.Image):    \n",
        "            map_id_dict = ee.Image(ee_object).getMapId(vis_params)\n",
        "            folium.raster_layers.TileLayer(\n",
        "            tiles = map_id_dict['tile_fetcher'].url_format,\n",
        "            attr = 'Google Earth Engine',\n",
        "            name = name,\n",
        "            overlay = True,\n",
        "            control = True\n",
        "            ).add_to(self)\n",
        "        # display ee.ImageCollection()\n",
        "        elif isinstance(ee_object, ee.imagecollection.ImageCollection):    \n",
        "            ee_object_new = ee_object.mosaic()\n",
        "            map_id_dict = ee.Image(ee_object_new).getMapId(vis_params)\n",
        "            folium.raster_layers.TileLayer(\n",
        "            tiles = map_id_dict['tile_fetcher'].url_format,\n",
        "            attr = 'Google Earth Engine',\n",
        "            name = name,\n",
        "            overlay = True,\n",
        "            control = True\n",
        "            ).add_to(self)\n",
        "        # display ee.Geometry()\n",
        "        elif isinstance(ee_object, ee.geometry.Geometry):    \n",
        "            folium.GeoJson(\n",
        "            data = ee_object.getInfo(),\n",
        "            name = name,\n",
        "            overlay = True,\n",
        "            control = True\n",
        "        ).add_to(self)\n",
        "        # display ee.FeatureCollection()\n",
        "        elif isinstance(ee_object, ee.featurecollection.FeatureCollection):  \n",
        "            ee_object_new = ee.Image().paint(ee_object, 0, 2)\n",
        "            map_id_dict = ee.Image(ee_object_new).getMapId(vis_params)\n",
        "            folium.raster_layers.TileLayer(\n",
        "            tiles = map_id_dict['tile_fetcher'].url_format,\n",
        "            attr = 'Google Earth Engine',\n",
        "            name = name,\n",
        "            overlay = True,\n",
        "            control = True\n",
        "        ).add_to(self)\n",
        "    \n",
        "    except:\n",
        "        print(\"Could not display {}\".format(name))\n",
        "    \n",
        "# Add EE drawing method to folium.\n",
        "folium.Map.addLayer = addLayer"
      ],
      "execution_count": 5,
      "outputs": []
    },
    {
      "cell_type": "markdown",
      "metadata": {
        "id": "Hi_VgP0sNJtG"
      },
      "source": [
        "# Configure"
      ]
    },
    {
      "cell_type": "markdown",
      "metadata": {
        "id": "N64sBh8Ya965"
      },
      "source": [
        "##Settings"
      ]
    },
    {
      "cell_type": "code",
      "metadata": {
        "id": "WGyi9glmV9gI"
      },
      "source": [
        "ESTADOS = ee.FeatureCollection('users/agrosatelite_mapbiomas/REGIONS/ibge_estados_2019')\n",
        "\n",
        "GRID_RICE = \"users/testesMapBiomas/Teste_Arroz/GRID_ARROZ_2\"\n",
        "\n",
        "REFERENCE_MAP_RICE = \"users/agrosatelite_mapbiomas/REFERENCE_MAPS/AGRICULTURE/TEMPORARY_CROPS/RICE/COLLECTION_30M\"\n",
        "\n",
        "UF = 'TO'\n",
        "\n",
        "\n",
        "#CONFIGURE DATE\n",
        "startDateWet = '2018-10-01'\n",
        "endDateWet = '2019-04-30'\n",
        "startDateDry = '2018-04-01'\n",
        "endDateDry = '2018-07-30'"
      ],
      "execution_count": 34,
      "outputs": []
    },
    {
      "cell_type": "markdown",
      "metadata": {
        "id": "MXQNSnYobciR"
      },
      "source": [
        "## Define region"
      ]
    },
    {
      "cell_type": "code",
      "metadata": {
        "id": "2Ismq5FeWIU5"
      },
      "source": [
        "region = ESTADOS.filter(\\\n",
        "                ee.Filter.Or(\\\n",
        "                ee.Filter.equals('SIGLA_UF', UF),\\\n",
        "                #ee.Filter.equals('SIGLA_UF', 'PR')\\\n",
        "                ))\\\n",
        "\n",
        "\n",
        "grid = ee.FeatureCollection(GRID_RICE).filterBounds(region.geometry())\n",
        "          # .filterMetadata('RICE_TRAIN', 'equals', 1)\n",
        "    \n",
        "mask = ee.Image(1).clip(grid)      \n",
        "\n",
        "arroz = ee.ImageCollection(REFERENCE_MAP_RICE)\\\n",
        "            .filterMetadata('year', 'equals', YEAR)\\\n",
        "            .mosaic()                 "
      ],
      "execution_count": 35,
      "outputs": []
    },
    {
      "cell_type": "markdown",
      "metadata": {
        "id": "468raOwXcCAk"
      },
      "source": [
        "## Define cloud mask"
      ]
    },
    {
      "cell_type": "code",
      "metadata": {
        "id": "V-SyUf5AWKCp"
      },
      "source": [
        "bandNames = ee.Dictionary({\n",
        "  'LANDSAT_5': ['B1', 'B2', 'B3', 'B4', 'B5', 'B7', 'B6', 'BQA'],\n",
        "  'LANDSAT_7': ['B1', 'B2', 'B3', 'B4', 'B5', 'B7', 'B6_VCID_1', 'BQA'],\n",
        "  'LANDSAT_8': ['B2', 'B3','B4', 'B5', 'B6', 'B7', 'B10', 'BQA']\n",
        "});\n",
        "\n",
        "def padronizeBandNames (image):\n",
        "  oldBandNames = bandNames.get(image.get('SPACECRAFT_ID'))\n",
        "  newBandNames = ['blue', 'green', 'red',  'nir', 'swir1', 'swir2', 'tir1', 'BQA']\n",
        "  return image.select(oldBandNames, newBandNames)\n",
        "\n",
        "qaBits57 = ee.List([\n",
        "  [0, 0, 0], #  Designated Fill\n",
        "  [1, 1, 0], # Designated Pixel\n",
        "  [4, 4, 0], # cloud-free\n",
        "  [7, 8, 1]  # Cloud Shadow Confidence is Low\n",
        "]);\n",
        "\n",
        "qaBits8 = ee.List([\n",
        "  [0, 0, 0],\n",
        "  [1, 1, 0],\n",
        "  [4, 4, 0],\n",
        "  [5, 6, 1],\n",
        "  [7, 8, 1],\n",
        "  [11, 12, 1]\n",
        "]);\n",
        "\n",
        "\n",
        "qaBitsDict = ee.Dictionary({\n",
        "  'LANDSAT_5': qaBits57,\n",
        "  'LANDSAT_7': qaBits57,\n",
        "  'LANDSAT_8': qaBits8\n",
        "});\n",
        "\n",
        "def itFunc (i, pattern):\n",
        "      i = ee.Number(i)\n",
        "      pattern = ee.Number(pattern);\n",
        "\n",
        "      return pattern.add(ee.Number(2).pow(i));\n",
        "    \n",
        "\n",
        "def getQABits(image, start, end):\n",
        "    pattern = ee.Number(ee.List.sequence(start, end).distinct().iterate(itFunc, ee.Number(0)));\n",
        "\n",
        "    return image.select(0).bitwiseAnd(pattern.int()).rightShift(start);\n",
        "\n",
        "\n",
        "def maskClouds(image):\n",
        "    qaBits = ee.List(qaBitsDict.get(image.getString('SPACECRAFT_ID')));\n",
        "    bqa = image.select('BQA');\n",
        "\n",
        "\n",
        "    inital_state = ee.Dictionary({\n",
        "        'bqa': bqa,\n",
        "        'mask': ee.Image(1)});\n",
        "  \n",
        "    def it2 (bits, state):\n",
        "        bits = ee.List(bits);\n",
        "        state = ee.Dictionary(state);\n",
        "\n",
        "        bqa = ee.Image(state.get('bqa'));\n",
        "        mask = ee.Image(state.get('mask'));\n",
        "\n",
        "        start = bits.getNumber(0);\n",
        "        end = bits.getNumber(1);\n",
        "        desired = bits.getNumber(2);\n",
        "\n",
        "        blueprint = getQABits(bqa, start, end).eq(desired);\n",
        "\n",
        "        return ee.Dictionary({\n",
        "            'bqa': bqa,\n",
        "            'mask': mask.updateMask(blueprint)\n",
        "        });\n",
        "    \n",
        "  \n",
        "    \n",
        "    finalState = ee.Dictionary(qaBits.iterate(it2, inital_state));\n",
        "  \n",
        "    cloudMask = ee.Image(finalState.get('mask'));\n",
        "\n",
        "    return image.updateMask(cloudMask);"
      ],
      "execution_count": 36,
      "outputs": []
    },
    {
      "cell_type": "markdown",
      "metadata": {
        "id": "1dQ-L2JkcGBi"
      },
      "source": [
        "## create filtered Landsat collection"
      ]
    },
    {
      "cell_type": "code",
      "metadata": {
        "id": "zUGBXEhpmAqk"
      },
      "source": [
        "l5Collection = ee.ImageCollection(\"LANDSAT/LT05/C01/T1_TOA\");\n",
        "l7Collection1 = ee.ImageCollection(\"LANDSAT/LE07/C01/T1_TOA\");\n",
        "l7Collection2 = ee.ImageCollection(\"LANDSAT/LE07/C01/T1_TOA\");\n",
        "l8Collection = ee.ImageCollection(\"LANDSAT/LC08/C01/T1_TOA\");\n",
        "\n",
        "collection_filtered = l8Collection.merge(l5Collection).merge(l7Collection1).merge(l7Collection2)\\\n",
        "    .map(padronizeBandNames)\\\n",
        "    .map(maskClouds)\\\n",
        "    .map(getNDWI)\\\n",
        "    .map(getEVI2)\\\n",
        "    .map(getCeusius)\\\n",
        "    .filterBounds(region)\\\n",
        "   \n"
      ],
      "execution_count": 37,
      "outputs": []
    },
    {
      "cell_type": "markdown",
      "metadata": {
        "id": "iTfJ6oMfcMJe"
      },
      "source": [
        "## Define Season and offSeason periods"
      ]
    },
    {
      "cell_type": "code",
      "metadata": {
        "id": "59I5Q5Y_WOcr"
      },
      "source": [
        "wet = collection_filtered.filterDate(startDateWet,endDateWet)\\\n",
        "              .qualityMosaic('evi2')\n",
        "          \n",
        "          \n",
        "wetNames = wet.bandNames().map(lambda band: ee.String(band).cat('_wet'))\n",
        "wet = wet.rename(wetNames)\n",
        "\n",
        "dry = collection_filtered.filterDate(startDateDry,endDateDry).min()\n",
        "          \n",
        "           \n",
        "dryNames = dry.bandNames().map(lambda band: ee.String(band).cat('_dry'))\n",
        "dry = dry.rename(dryNames)\n",
        "\n",
        "                                      \n",
        "mosaic = wet.addBands(dry)"
      ],
      "execution_count": 38,
      "outputs": []
    },
    {
      "cell_type": "markdown",
      "metadata": {
        "id": "RvAv63XjcR-8"
      },
      "source": [
        "## calculate CEI from EVI2"
      ]
    },
    {
      "cell_type": "code",
      "metadata": {
        "id": "tnsWAj9lWg3Q"
      },
      "source": [
        "\n",
        "cei   = mosaic.expression('100*(WET_max - DRY_min) / (100+WET_max + 100+DRY_min)', {\n",
        "  'WET_max': mosaic.select(['evi2_wet', 'ndwi_wet']),\n",
        "  'DRY_min': mosaic.select(['evi2_dry', 'ndwi_dry']),\n",
        "}).rename(['cei_evi2', 'cei_ndwi'])\n",
        "\n",
        "\n",
        "mosaic = mosaic.addBands(cei)\n",
        "\n",
        "mosaicUnet = mosaic.select(['cei_evi2', 'cei_ndwi', 'swir2_dry']).multiply(255).int16().updateMask(mask) "
      ],
      "execution_count": 39,
      "outputs": []
    },
    {
      "cell_type": "code",
      "metadata": {
        "colab": {
          "base_uri": "https://localhost:8080/"
        },
        "id": "wzF58VyVrwyS",
        "outputId": "69cebbb7-17ea-401b-f8d4-49e8fad6cf7b"
      },
      "source": [
        "print (mosaicUnet.bandNames().getInfo())"
      ],
      "execution_count": 40,
      "outputs": [
        {
          "output_type": "stream",
          "text": [
            "['cei_evi2', 'cei_ndwi', 'swir2_dry']\n"
          ],
          "name": "stdout"
        }
      ]
    },
    {
      "cell_type": "markdown",
      "metadata": {
        "id": "chtkJhOKcZS8"
      },
      "source": [
        "## Visualize mosaic"
      ]
    },
    {
      "cell_type": "code",
      "metadata": {
        "colab": {
          "base_uri": "https://localhost:8080/",
          "height": 1000
        },
        "id": "b9WMjwM4WkjD",
        "outputId": "33e63774-b82a-40e0-e0f7-06ef63cb6dbb"
      },
      "source": [
        "# Set visualization parameters.\n",
        "vis_params = {\n",
        "  'min': 0,\n",
        "  'max': 80,\n",
        "  'bands': ['cei_evi2', 'cei_ndwi', 'swir2_dry']}\n",
        "\n",
        "# Create a folium map object.\n",
        "my_map = folium.Map(location=[20, 0], zoom_start=3, height=500)\n",
        "\n",
        "# Add custom basemaps\n",
        "basemaps['Google Maps'].add_to(my_map)\n",
        "\n",
        "# Add the mosaic to the map object.\n",
        "my_map.addLayer(mosaicUnet, vis_params, 'mosaicUnet')\n",
        "\n",
        "# Add a layer control panel to the map.\n",
        "my_map.add_child(folium.LayerControl())\n",
        "\n",
        "# Add fullscreen button\n",
        "plugins.Fullscreen().add_to(my_map)\n",
        "\n",
        "# Display the map.\n",
        "display(my_map)"
      ],
      "execution_count": 41,
      "outputs": [
        {
          "output_type": "display_data",
          "data": {
            "text/html": [
              "<div style=\"width:100%;\"><div style=\"position:relative;width:100%;height:0;padding-bottom:60%;\"><span style=\"color:#565656\">Make this Notebook Trusted to load map: File -> Trust Notebook</span><iframe src=\"about:blank\" style=\"position:absolute;width:100%;height:100%;left:0;top:0;border:none !important;\" data-html=%3C%21DOCTYPE%20html%3E%0A%3Chead%3E%20%20%20%20%0A%20%20%20%20%3Cmeta%20http-equiv%3D%22content-type%22%20content%3D%22text/html%3B%20charset%3DUTF-8%22%20/%3E%0A%20%20%20%20%3Cscript%3EL_PREFER_CANVAS%3Dfalse%3B%20L_NO_TOUCH%3Dfalse%3B%20L_DISABLE_3D%3Dfalse%3B%3C/script%3E%0A%20%20%20%20%3Cscript%20src%3D%22https%3A//cdn.jsdelivr.net/npm/leaflet%401.4.0/dist/leaflet.js%22%3E%3C/script%3E%0A%20%20%20%20%3Cscript%20src%3D%22https%3A//code.jquery.com/jquery-1.12.4.min.js%22%3E%3C/script%3E%0A%20%20%20%20%3Cscript%20src%3D%22https%3A//maxcdn.bootstrapcdn.com/bootstrap/3.2.0/js/bootstrap.min.js%22%3E%3C/script%3E%0A%20%20%20%20%3Cscript%20src%3D%22https%3A//cdnjs.cloudflare.com/ajax/libs/Leaflet.awesome-markers/2.0.2/leaflet.awesome-markers.js%22%3E%3C/script%3E%0A%20%20%20%20%3Clink%20rel%3D%22stylesheet%22%20href%3D%22https%3A//cdn.jsdelivr.net/npm/leaflet%401.4.0/dist/leaflet.css%22/%3E%0A%20%20%20%20%3Clink%20rel%3D%22stylesheet%22%20href%3D%22https%3A//maxcdn.bootstrapcdn.com/bootstrap/3.2.0/css/bootstrap.min.css%22/%3E%0A%20%20%20%20%3Clink%20rel%3D%22stylesheet%22%20href%3D%22https%3A//maxcdn.bootstrapcdn.com/bootstrap/3.2.0/css/bootstrap-theme.min.css%22/%3E%0A%20%20%20%20%3Clink%20rel%3D%22stylesheet%22%20href%3D%22https%3A//maxcdn.bootstrapcdn.com/font-awesome/4.6.3/css/font-awesome.min.css%22/%3E%0A%20%20%20%20%3Clink%20rel%3D%22stylesheet%22%20href%3D%22https%3A//cdnjs.cloudflare.com/ajax/libs/Leaflet.awesome-markers/2.0.2/leaflet.awesome-markers.css%22/%3E%0A%20%20%20%20%3Clink%20rel%3D%22stylesheet%22%20href%3D%22https%3A//rawcdn.githack.com/python-visualization/folium/master/folium/templates/leaflet.awesome.rotate.css%22/%3E%0A%20%20%20%20%3Cstyle%3Ehtml%2C%20body%20%7Bwidth%3A%20100%25%3Bheight%3A%20100%25%3Bmargin%3A%200%3Bpadding%3A%200%3B%7D%3C/style%3E%0A%20%20%20%20%3Cstyle%3E%23map%20%7Bposition%3Aabsolute%3Btop%3A0%3Bbottom%3A0%3Bright%3A0%3Bleft%3A0%3B%7D%3C/style%3E%0A%20%20%20%20%0A%20%20%20%20%3Cmeta%20name%3D%22viewport%22%20content%3D%22width%3Ddevice-width%2C%0A%20%20%20%20%20%20%20%20initial-scale%3D1.0%2C%20maximum-scale%3D1.0%2C%20user-scalable%3Dno%22%20/%3E%0A%20%20%20%20%3Cstyle%3E%23map_6a6b5c98ad6e4e22abfb7b41777702db%20%7B%0A%20%20%20%20%20%20%20%20position%3A%20relative%3B%0A%20%20%20%20%20%20%20%20width%3A%20100.0%25%3B%0A%20%20%20%20%20%20%20%20height%3A%20500.0px%3B%0A%20%20%20%20%20%20%20%20left%3A%200.0%25%3B%0A%20%20%20%20%20%20%20%20top%3A%200.0%25%3B%0A%20%20%20%20%20%20%20%20%7D%0A%20%20%20%20%3C/style%3E%0A%20%20%20%20%3Cscript%20src%3D%22https%3A//cdnjs.cloudflare.com/ajax/libs/leaflet.fullscreen/1.4.2/Control.FullScreen.min.js%22%3E%3C/script%3E%0A%20%20%20%20%3Clink%20rel%3D%22stylesheet%22%20href%3D%22https%3A//cdnjs.cloudflare.com/ajax/libs/leaflet.fullscreen/1.4.2/Control.FullScreen.min.css%22/%3E%0A%3C/head%3E%0A%3Cbody%3E%20%20%20%20%0A%20%20%20%20%0A%20%20%20%20%3Cdiv%20class%3D%22folium-map%22%20id%3D%22map_6a6b5c98ad6e4e22abfb7b41777702db%22%20%3E%3C/div%3E%0A%3C/body%3E%0A%3Cscript%3E%20%20%20%20%0A%20%20%20%20%0A%20%20%20%20%0A%20%20%20%20%20%20%20%20var%20bounds%20%3D%20null%3B%0A%20%20%20%20%0A%0A%20%20%20%20var%20map_6a6b5c98ad6e4e22abfb7b41777702db%20%3D%20L.map%28%0A%20%20%20%20%20%20%20%20%27map_6a6b5c98ad6e4e22abfb7b41777702db%27%2C%20%7B%0A%20%20%20%20%20%20%20%20center%3A%20%5B20%2C%200%5D%2C%0A%20%20%20%20%20%20%20%20zoom%3A%203%2C%0A%20%20%20%20%20%20%20%20maxBounds%3A%20bounds%2C%0A%20%20%20%20%20%20%20%20layers%3A%20%5B%5D%2C%0A%20%20%20%20%20%20%20%20worldCopyJump%3A%20false%2C%0A%20%20%20%20%20%20%20%20crs%3A%20L.CRS.EPSG3857%2C%0A%20%20%20%20%20%20%20%20zoomControl%3A%20true%2C%0A%20%20%20%20%20%20%20%20%7D%29%3B%0A%0A%0A%20%20%20%20%0A%20%20%20%20var%20tile_layer_4f6687cd95064a4488cd2ae9d4f751ca%20%3D%20L.tileLayer%28%0A%20%20%20%20%20%20%20%20%27https%3A//%7Bs%7D.tile.openstreetmap.org/%7Bz%7D/%7Bx%7D/%7By%7D.png%27%2C%0A%20%20%20%20%20%20%20%20%7B%0A%20%20%20%20%20%20%20%20%22attribution%22%3A%20null%2C%0A%20%20%20%20%20%20%20%20%22detectRetina%22%3A%20false%2C%0A%20%20%20%20%20%20%20%20%22maxNativeZoom%22%3A%2018%2C%0A%20%20%20%20%20%20%20%20%22maxZoom%22%3A%2018%2C%0A%20%20%20%20%20%20%20%20%22minZoom%22%3A%200%2C%0A%20%20%20%20%20%20%20%20%22noWrap%22%3A%20false%2C%0A%20%20%20%20%20%20%20%20%22opacity%22%3A%201%2C%0A%20%20%20%20%20%20%20%20%22subdomains%22%3A%20%22abc%22%2C%0A%20%20%20%20%20%20%20%20%22tms%22%3A%20false%0A%7D%29.addTo%28map_6a6b5c98ad6e4e22abfb7b41777702db%29%3B%0A%20%20%20%20var%20tile_layer_8306b6b191ff4e5bb0d0207b212e1982%20%3D%20L.tileLayer%28%0A%20%20%20%20%20%20%20%20%27https%3A//mt1.google.com/vt/lyrs%3Dm%26x%3D%7Bx%7D%26y%3D%7By%7D%26z%3D%7Bz%7D%27%2C%0A%20%20%20%20%20%20%20%20%7B%0A%20%20%20%20%20%20%20%20%22attribution%22%3A%20%22Google%22%2C%0A%20%20%20%20%20%20%20%20%22detectRetina%22%3A%20false%2C%0A%20%20%20%20%20%20%20%20%22maxNativeZoom%22%3A%2018%2C%0A%20%20%20%20%20%20%20%20%22maxZoom%22%3A%2018%2C%0A%20%20%20%20%20%20%20%20%22minZoom%22%3A%200%2C%0A%20%20%20%20%20%20%20%20%22noWrap%22%3A%20false%2C%0A%20%20%20%20%20%20%20%20%22opacity%22%3A%201%2C%0A%20%20%20%20%20%20%20%20%22subdomains%22%3A%20%22abc%22%2C%0A%20%20%20%20%20%20%20%20%22tms%22%3A%20false%0A%7D%29.addTo%28map_6a6b5c98ad6e4e22abfb7b41777702db%29%3B%0A%20%20%20%20var%20tile_layer_3252db1c7594491697545619923db51a%20%3D%20L.tileLayer%28%0A%20%20%20%20%20%20%20%20%27https%3A//earthengine.googleapis.com/v1alpha/projects/earthengine-legacy/maps/4ad8748adec7cc33a65281a020ac584e-dbc21a5fdf0e9f010147b695cf4d32aa/tiles/%7Bz%7D/%7Bx%7D/%7By%7D%27%2C%0A%20%20%20%20%20%20%20%20%7B%0A%20%20%20%20%20%20%20%20%22attribution%22%3A%20%22Google%20Earth%20Engine%22%2C%0A%20%20%20%20%20%20%20%20%22detectRetina%22%3A%20false%2C%0A%20%20%20%20%20%20%20%20%22maxNativeZoom%22%3A%2018%2C%0A%20%20%20%20%20%20%20%20%22maxZoom%22%3A%2018%2C%0A%20%20%20%20%20%20%20%20%22minZoom%22%3A%200%2C%0A%20%20%20%20%20%20%20%20%22noWrap%22%3A%20false%2C%0A%20%20%20%20%20%20%20%20%22opacity%22%3A%201%2C%0A%20%20%20%20%20%20%20%20%22subdomains%22%3A%20%22abc%22%2C%0A%20%20%20%20%20%20%20%20%22tms%22%3A%20false%0A%7D%29.addTo%28map_6a6b5c98ad6e4e22abfb7b41777702db%29%3B%0A%20%20%20%20%0A%20%20%20%20%20%20%20%20%20%20%20%20var%20layer_control_ac04e638c59b43258c917aa9b233f584%20%3D%20%7B%0A%20%20%20%20%20%20%20%20%20%20%20%20%20%20%20%20base_layers%20%3A%20%7B%20%22openstreetmap%22%20%3A%20tile_layer_4f6687cd95064a4488cd2ae9d4f751ca%2C%20%7D%2C%0A%20%20%20%20%20%20%20%20%20%20%20%20%20%20%20%20overlays%20%3A%20%7B%20%22Google%20Maps%22%20%3A%20tile_layer_8306b6b191ff4e5bb0d0207b212e1982%2C%22mosaicUnet%22%20%3A%20tile_layer_3252db1c7594491697545619923db51a%2C%20%7D%0A%20%20%20%20%20%20%20%20%20%20%20%20%20%20%20%20%7D%3B%0A%20%20%20%20%20%20%20%20%20%20%20%20L.control.layers%28%0A%20%20%20%20%20%20%20%20%20%20%20%20%20%20%20%20layer_control_ac04e638c59b43258c917aa9b233f584.base_layers%2C%0A%20%20%20%20%20%20%20%20%20%20%20%20%20%20%20%20layer_control_ac04e638c59b43258c917aa9b233f584.overlays%2C%0A%20%20%20%20%20%20%20%20%20%20%20%20%20%20%20%20%7Bposition%3A%20%27topright%27%2C%0A%20%20%20%20%20%20%20%20%20%20%20%20%20%20%20%20%20collapsed%3A%20true%2C%0A%20%20%20%20%20%20%20%20%20%20%20%20%20%20%20%20%20autoZIndex%3A%20true%0A%20%20%20%20%20%20%20%20%20%20%20%20%20%20%20%20%7D%29.addTo%28map_6a6b5c98ad6e4e22abfb7b41777702db%29%3B%0A%20%20%20%20%20%20%20%20%20%20%20%20%0A%20%20%20%20%20%20%20%20%0A%20%20%20%20%0A%20%20%20%20%20%20%20%20%20%20%20%20L.control.fullscreen%28%7B%0A%20%20%20%20%20%20%20%20%20%20%20%20%20%20%20%20position%3A%20%27topleft%27%2C%0A%20%20%20%20%20%20%20%20%20%20%20%20%20%20%20%20title%3A%20%27Full%20Screen%27%2C%0A%20%20%20%20%20%20%20%20%20%20%20%20%20%20%20%20titleCancel%3A%20%27Exit%20Full%20Screen%27%2C%0A%20%20%20%20%20%20%20%20%20%20%20%20%20%20%20%20forceSeparateButton%3A%20false%2C%0A%20%20%20%20%20%20%20%20%20%20%20%20%20%20%20%20%7D%29.addTo%28map_6a6b5c98ad6e4e22abfb7b41777702db%29%3B%0A%20%20%20%20%20%20%20%20%20%20%20%20map_6a6b5c98ad6e4e22abfb7b41777702db.on%28%27enterFullscreen%27%2C%20function%28%29%7B%0A%20%20%20%20%20%20%20%20%20%20%20%20%20%20%20%20console.log%28%27entered%20fullscreen%27%29%3B%0A%20%20%20%20%20%20%20%20%20%20%20%20%7D%29%3B%0A%0A%20%20%20%20%20%20%20%20%0A%3C/script%3E onload=\"this.contentDocument.open();this.contentDocument.write(    decodeURIComponent(this.getAttribute('data-html')));this.contentDocument.close();\" allowfullscreen webkitallowfullscreen mozallowfullscreen></iframe></div></div>"
            ],
            "text/plain": [
              "<folium.folium.Map at 0x7f91a22aad50>"
            ]
          },
          "metadata": {
            "tags": []
          }
        }
      ]
    },
    {
      "cell_type": "markdown",
      "metadata": {
        "id": "_n9JVTkGccUD"
      },
      "source": [
        "## Export Tasks"
      ]
    },
    {
      "cell_type": "code",
      "metadata": {
        "colab": {
          "base_uri": "https://localhost:8080/"
        },
        "id": "iEG97cH8Wp1d",
        "outputId": "4f1a4523-e1ee-4880-8eb9-97426c7e8311"
      },
      "source": [
        "list2 = grid.aggregate_array(\"id\").distinct().sort()\n",
        "print(list2.length().getInfo())"
      ],
      "execution_count": 42,
      "outputs": [
        {
          "output_type": "stream",
          "text": [
            "8\n"
          ],
          "name": "stdout"
        }
      ]
    },
    {
      "cell_type": "code",
      "metadata": {
        "colab": {
          "base_uri": "https://localhost:8080/"
        },
        "id": "L14taID2Wq1a",
        "outputId": "da42778a-eacb-4668-a160-ecac8ad6e582"
      },
      "source": [
        "for i in range(list2.length().getInfo()):\n",
        "    roi = grid.filterMetadata('id', 'equals', list2.get(i))\n",
        "    mosaicExp = mosaicUnet\n",
        "\n",
        "    mosaic_toExport = mosaicExp.unmask().clip(roi)\n",
        "    label_toExport = arroz.unmask().clip(roi).byte()\n",
        "\n",
        "    print (\"export mosaic {}_{}\".format(str((list2.get(i)).getInfo()), str(YEAR)))\n",
        "\n",
        "    task = ee.batch.Export.image.toDrive(\n",
        "        image=mosaic_toExport,\n",
        "        description='id_' + str((list2.get(i)).getInfo()) +'_'  + 'mosaic_' + str(YEAR),\n",
        "        folder= 'TRAIN LANDSAT ARROZ_pythonVersion_{}_{}'.format(str(YEAR), str(UF)),\n",
        "        fileNamePrefix= 'id_' + str((list2.get(i)).getInfo()) + '_'  + 'mosaic',\n",
        "        region=roi.geometry(),\n",
        "        scale=30,\n",
        "        crs= 'EPSG:3857',\n",
        "        maxPixels=int(1e13),\n",
        "        shardSize= 32,\n",
        "        )\n",
        "\n",
        "    task.start()    "
      ],
      "execution_count": 43,
      "outputs": [
        {
          "output_type": "stream",
          "text": [
            "export mosaic 769_2018\n",
            "export mosaic 770_2018\n",
            "export mosaic 771_2018\n",
            "export mosaic 772_2018\n",
            "export mosaic 820_2018\n",
            "export mosaic 821_2018\n",
            "export mosaic 822_2018\n",
            "export mosaic 919_2018\n"
          ],
          "name": "stdout"
        }
      ]
    }
  ]
}